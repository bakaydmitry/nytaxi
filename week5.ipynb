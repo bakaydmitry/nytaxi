{
 "cells": [
  {
   "cell_type": "markdown",
   "metadata": {},
   "source": [
    "## WEEK 5"
   ]
  },
  {
   "cell_type": "markdown",
   "metadata": {},
   "source": [
    "#### 1.\n",
    "Для каждой из шести задач прогнозирования yT+i|T, i=1,…,6 сформируйте выборки. Откликом будет yT+i при всевозможных значениях T"
   ]
  },
  {
   "cell_type": "code",
   "execution_count": 1,
   "metadata": {},
   "outputs": [],
   "source": [
    "import utils\n",
    "import gc\n",
    "import numpy as np\n",
    "import pandas as pd\n",
    "import math\n",
    "import matplotlib.pyplot as plt\n",
    "import matplotlib.ticker as ticker\n",
    "from types import SimpleNamespace\n",
    "from xgboost import XGBRegressor\n",
    "from sklearn.model_selection import RandomizedSearchCV\n",
    "from sklearn.preprocessing import FunctionTransformer, OneHotEncoder, StandardScaler\n",
    "from sklearn.pipeline import Pipeline, FeatureUnion\n",
    "from sklearn.base import TransformerMixin\n",
    "from scipy.sparse import csr_matrix"
   ]
  },
  {
   "cell_type": "code",
   "execution_count": 2,
   "metadata": {},
   "outputs": [
    {
     "name": "stdout",
     "output_type": "stream",
     "text": [
      "CPU times: user 31.5 s, sys: 1.3 s, total: 32.8 s\n",
      "Wall time: 1min 25s\n"
     ]
    }
   ],
   "source": [
    "%%time\n",
    "# Выгрузим данные по зонам из числа отобранных на второй неделе, то есть те, у которых в мае 2016 года было больше 5 поездок в час\n",
    "# Выгрузим данные за два года, т.к. на этой неделе не надо считать ариму\n",
    "aws = utils.AWSUtils()\n",
    "data = aws.pd_read_sql(\n",
    "    sql=\"\\\n",
    "    SELECT \\\n",
    "        dt.trip_datetime, \\\n",
    "        r.region_id, \\\n",
    "        COALESCE(ad.trip_count_sum, 0) trip_count_sum \\\n",
    "    FROM \\\n",
    "        mldb.taxi_tripdt dt \\\n",
    "        CROSS JOIN taxi_regions r \\\n",
    "        LEFT JOIN mldb.taxi_aggregateddata ad ON ad.pickup_datetime=dt.trip_datetime and ad.pickup_region_id=r.region_id \\\n",
    "        INNER JOIN \\\n",
    "            (SELECT \\\n",
    "                pickup_region_id, \\\n",
    "                sum(trip_count_sum)/24/31 trip_avg_ph \\\n",
    "            FROM \\\n",
    "                 mldb.taxi_aggregateddata \\\n",
    "            WHERE \\\n",
    "                MONTH(pickup_datetime) = 5 \\\n",
    "                AND YEAR(pickup_datetime) = 2016 \\\n",
    "            GROUP BY \\\n",
    "                pickup_region_id \\\n",
    "            HAVING \\\n",
    "                trip_avg_ph >= 5 \\\n",
    "            ) adf ON adf.pickup_region_id = r.region_id \\\n",
    "    WHERE \\\n",
    "        dt.trip_datetime BETWEEN '{min_dt}' AND '{max_dt}';\"\n",
    "    .format(\n",
    "        min_dt='2014-05-01 00:00:00',\n",
    "        max_dt='2016-06-30 23:00:00'\n",
    "    ),\n",
    "    index_col='trip_datetime',\n",
    "    parse_dates={'trip_datetime': {'format': '%Y-%m-%d %H:%M:%S'}}\n",
    ")"
   ]
  },
  {
   "cell_type": "code",
   "execution_count": 3,
   "metadata": {},
   "outputs": [
    {
     "data": {
      "text/plain": [
       "(102,)"
      ]
     },
     "execution_count": 3,
     "metadata": {},
     "output_type": "execute_result"
    }
   ],
   "source": [
    "# должны получиться данные по 102 регионам, проверим это\n",
    "data.region_id.unique().shape"
   ]
  },
  {
   "cell_type": "code",
   "execution_count": 4,
   "metadata": {},
   "outputs": [
    {
     "data": {
      "text/html": [
       "<div>\n",
       "<style scoped>\n",
       "    .dataframe tbody tr th:only-of-type {\n",
       "        vertical-align: middle;\n",
       "    }\n",
       "\n",
       "    .dataframe tbody tr th {\n",
       "        vertical-align: top;\n",
       "    }\n",
       "\n",
       "    .dataframe thead th {\n",
       "        text-align: right;\n",
       "    }\n",
       "</style>\n",
       "<table border=\"1\" class=\"dataframe\">\n",
       "  <thead>\n",
       "    <tr style=\"text-align: right;\">\n",
       "      <th></th>\n",
       "      <th>region_id</th>\n",
       "      <th>trip_count_sum</th>\n",
       "    </tr>\n",
       "    <tr>\n",
       "      <th>trip_datetime</th>\n",
       "      <th></th>\n",
       "      <th></th>\n",
       "    </tr>\n",
       "  </thead>\n",
       "  <tbody>\n",
       "    <tr>\n",
       "      <th>2016-06-30 23:00:00</th>\n",
       "      <td>1390</td>\n",
       "      <td>15</td>\n",
       "    </tr>\n",
       "    <tr>\n",
       "      <th>2016-06-30 23:00:00</th>\n",
       "      <td>1439</td>\n",
       "      <td>9</td>\n",
       "    </tr>\n",
       "    <tr>\n",
       "      <th>2016-06-30 23:00:00</th>\n",
       "      <td>1441</td>\n",
       "      <td>2</td>\n",
       "    </tr>\n",
       "    <tr>\n",
       "      <th>2016-06-30 23:00:00</th>\n",
       "      <td>1442</td>\n",
       "      <td>5</td>\n",
       "    </tr>\n",
       "    <tr>\n",
       "      <th>2016-06-30 23:00:00</th>\n",
       "      <td>1783</td>\n",
       "      <td>110</td>\n",
       "    </tr>\n",
       "  </tbody>\n",
       "</table>\n",
       "</div>"
      ],
      "text/plain": [
       "                     region_id  trip_count_sum\n",
       "trip_datetime                                 \n",
       "2016-06-30 23:00:00       1390              15\n",
       "2016-06-30 23:00:00       1439               9\n",
       "2016-06-30 23:00:00       1441               2\n",
       "2016-06-30 23:00:00       1442               5\n",
       "2016-06-30 23:00:00       1783             110"
      ]
     },
     "execution_count": 4,
     "metadata": {},
     "output_type": "execute_result"
    }
   ],
   "source": [
    "# посмотрим на данные, что все выгрузилось корректно\n",
    "data.tail()"
   ]
  },
  {
   "cell_type": "code",
   "execution_count": 5,
   "metadata": {},
   "outputs": [],
   "source": [
    "class TripData():\n",
    "    def __init__(self, data):\n",
    "        self.date_index = data.index.unique()\n",
    "        self.data = data\n",
    "        self._fit_X_y()\n",
    "    \n",
    "    def _fit_X_y(self):\n",
    "        \n",
    "        self.train_idx = np.where(self.data.index.isin(self.data.loc[:'2016-04-30 17:00:00'].index))[0]\n",
    "        self.test_idx = np.where(self.data.index.isin(self.data.loc['2016-04-30 23:00:00':'2016-05-31 17:00:00'].index))[0]\n",
    "        self.final_idx = np.where(self.data.index.isin(self.data.loc['2016-05-31 23:00:00':'2016-06-30 17:00:00'].index))[0]\n",
    "\n",
    "        self._X = TaxiTripTransformer(self.date_index).fit_transform(self.data)\n",
    "        self._X_train = self._X[np.where(self.data.index.isin(self.data.loc[:'2016-05-31 17:00:00'].index))[0]]\n",
    "        self._X_test = self._X[self.final_idx]\n",
    "         \n",
    "        self._y = {\n",
    "            T: self._shift_y(self.data, T) for T in range(1, 6+1)\n",
    "        }\n",
    "        \n",
    "        self._y_train = {\n",
    "            T: self._shift_y(\n",
    "                self.data.loc[:'2016-05-31 23:00:00'], T\n",
    "            ).iloc[: self._X_train.shape[0]] for T in range(1, 6+1)\n",
    "        }\n",
    "        \n",
    "        self._y_test = {\n",
    "            T: self._shift_y(\n",
    "                self.data.loc['2016-06-01 00:00:00':'2016-06-30 23:00:00'], T\n",
    "            ).iloc[: self._X_test.shape[0]] for T in range(1, 6+1)\n",
    "        }\n",
    "    \n",
    "    def _shift_y(self, data, T):\n",
    "        region_count = data.region_id.unique().shape[0]\n",
    "        return data.shift(-T*region_count).fillna(0).trip_count_sum\n",
    "    \n",
    "    def train(self, T):\n",
    "        return SimpleNamespace(\n",
    "            X=self._X_train,\n",
    "            y=self._y_train[T]\n",
    "        )\n",
    "    \n",
    "    def test(self, T):\n",
    "        return SimpleNamespace(\n",
    "            X=self._X_test,\n",
    "            y=self._y_test[T]\n",
    "        )\n",
    "    \n",
    "    def cv(self):\n",
    "        yield (\n",
    "            self.train_idx,\n",
    "            self.test_idx\n",
    "        )\n",
    "\n",
    "# генератор новых признаков\n",
    "class TaxiTripTransformer(TransformerMixin):\n",
    "    def __init__(self, series_index):\n",
    "        self.series_index = series_index\n",
    "\n",
    "    def _fourier_harmonic(self, X, series_index, k_values, period):\n",
    "        values = np.array([series_index.get_loc(n) for n in X.index.values])\n",
    "        \n",
    "        return csr_matrix(\n",
    "            np.array([\n",
    "                func(values*2*math.pi*k/period) for k in k_values for func in (np.sin, np.cos)\n",
    "            ]).T\n",
    "        )\n",
    "    \n",
    "    def _shift_defauls(self, X):\n",
    "        df = X.copy()\n",
    "        df.loc[:, 'hour'] = df.index.hour\n",
    "        \n",
    "        return (\n",
    "            df.pivot_table(\n",
    "                values='trip_count_sum', \n",
    "                index='hour',\n",
    "                columns='region_id',\n",
    "                fill_value=0\n",
    "            )\n",
    "            .groupby(['hour'])\n",
    "            .mean()\n",
    "        )\n",
    "    \n",
    "    def _shift_function(self, X, range_func):\n",
    "        df_defauls = self._shift_defauls(X)\n",
    "        \n",
    "        X_pivot = X.pivot_table(\n",
    "            values='trip_count_sum', \n",
    "            index='trip_datetime', \n",
    "            columns='region_id',\n",
    "            fill_value=0\n",
    "        )\n",
    "\n",
    "        return csr_matrix(\n",
    "            np.array([\n",
    "                X_pivot\n",
    "                .shift(hour)\n",
    "                .fillna(\n",
    "                    X_pivot\n",
    "                    .head(hour)\n",
    "                    .apply(\n",
    "                        lambda x: df_defauls.loc[(x.name-pd.Timedelta(hours=hour)).hour], \n",
    "                        axis=1\n",
    "                    )\n",
    "                )\n",
    "                .stack()\n",
    "                for hour in range_func\n",
    "            ]).T\n",
    "        )\n",
    "\n",
    "    def _sum_function(self, X, periods):\n",
    "        X_pivot = X.pivot_table(\n",
    "            values='trip_count_sum', \n",
    "            index='trip_datetime', \n",
    "            columns='region_id',\n",
    "            fill_value=0\n",
    "        )\n",
    "\n",
    "        return csr_matrix(\n",
    "            np.array([\n",
    "                X_pivot\n",
    "                .rolling(window = period)\n",
    "                .sum()\n",
    "                .shift()\n",
    "                .fillna(X_pivot.mean())\n",
    "                .stack()\n",
    "                for period in periods\n",
    "            ]).T\n",
    "        )\n",
    "    \n",
    "    def _feature_union(self):\n",
    "        return FeatureUnion(\n",
    "            n_jobs = -1,\n",
    "            transformer_list = [\n",
    "\n",
    "                # недельные гармоники\n",
    "                ('week_harmonic_processing', Pipeline(\n",
    "                    steps = [\n",
    "                        ('calculation', FunctionTransformer(\n",
    "                            lambda data: self._fourier_harmonic(\n",
    "                                X=data, \n",
    "                                series_index=self.series_index, \n",
    "                                k_values=[2,3,4,5,7,9,12,14,17,19,21,24,28,31], \n",
    "                                period=24*7\n",
    "                            )\n",
    "                        )),\n",
    "                    ]\n",
    "                )),\n",
    "\n",
    "                # годовые гармоники\n",
    "                ('year_harmonic_processing', Pipeline(\n",
    "                    steps = [\n",
    "                        ('calculation', FunctionTransformer(\n",
    "                            lambda data: self._fourier_harmonic(\n",
    "                                X=data, \n",
    "                                series_index=self.series_index, \n",
    "                                k_values=[2,3,4,6,8,12,16,24,32,48,64,121,182,244,365],\n",
    "                                period=24*365.25\n",
    "                            )\n",
    "                        )),\n",
    "                    ]\n",
    "                )),\n",
    "\n",
    "                # идентификатор географической зоны\n",
    "               ('region_processing', Pipeline(\n",
    "                    steps = [\n",
    "                        ('selecting', FunctionTransformer(\n",
    "                            lambda data: pd.DataFrame(data.region_id), validate=False)\n",
    "                        ),\n",
    "                        ('hot_encoding', OneHotEncoder(categories='auto')),\n",
    "                    ]\n",
    "                )),\n",
    "                \n",
    "                # год\n",
    "                ('year_processing', Pipeline(\n",
    "                    steps = [\n",
    "                        ('selecting', FunctionTransformer(\n",
    "                            lambda data: pd.DataFrame(data.index.year), validate=False)\n",
    "                        ),\n",
    "                        ('hot_encoding', OneHotEncoder(categories='auto')),\n",
    "                    ]\n",
    "                )),\n",
    "\n",
    "                # номер месяца\n",
    "                ('month_processing', Pipeline(\n",
    "                    steps = [\n",
    "                        ('selecting', FunctionTransformer(\n",
    "                            lambda data: pd.DataFrame(data.index.month), validate=False)\n",
    "                        ),\n",
    "                        ('hot_encoding', OneHotEncoder(categories='auto')),\n",
    "                    ]\n",
    "                )),\n",
    "\n",
    "                # день недели\n",
    "                ('dayofweek_processing', Pipeline(\n",
    "                    steps = [\n",
    "                        ('selecting', FunctionTransformer(\n",
    "                            lambda data: pd.DataFrame(data.index.dayofweek), validate=False)\n",
    "                        ),\n",
    "                        ('hot_encoding', OneHotEncoder(categories='auto')),\n",
    "                    ]\n",
    "                )),                        \n",
    "\n",
    "                # часы\n",
    "                ('hour_processing', Pipeline(\n",
    "                    steps = [\n",
    "                        ('selecting', FunctionTransformer(\n",
    "                            lambda data: pd.DataFrame(data.index.hour), validate=False)\n",
    "                        ),\n",
    "                        ('hot_encoding', OneHotEncoder(categories='auto')),\n",
    "                    ]\n",
    "                )),\n",
    "\n",
    "                # количество поездок 1..24 часов назад\n",
    "                ('trip_hour_processing', Pipeline(\n",
    "                    steps = [\n",
    "                        ('calculation', FunctionTransformer(\n",
    "                            lambda data: self._shift_function(\n",
    "                                X=data,\n",
    "                                range_func=range(1, 24+1, 1)\n",
    "                            )\n",
    "                        )),\n",
    "                        ('scaling', StandardScaler(with_mean=False))\n",
    "                    ]\n",
    "                )),\n",
    "\n",
    "                # количество поездок 24..168 часов назад\n",
    "                ('trip_day_processing', Pipeline(\n",
    "                    steps = [\n",
    "                        ('calculation', FunctionTransformer(\n",
    "                            lambda data: self._shift_function(\n",
    "                                X=data,\n",
    "                                range_func=range(24, 24*7+1, 24)\n",
    "                            )\n",
    "                        )),\n",
    "                        ('scaling', StandardScaler(with_mean=False))\n",
    "                    ]\n",
    "                )),\n",
    "\n",
    "                # суммарное количество поездок за полдня, день, неделю, месяц\n",
    "                ('trip_sum_processing', Pipeline(\n",
    "                    steps = [\n",
    "                        ('calculation', FunctionTransformer(\n",
    "                            lambda data: self._sum_function(\n",
    "                                X=data,\n",
    "                                periods=[12, 24, 24*7, 24*30]\n",
    "                            )\n",
    "                        )),\n",
    "                        ('scaling', StandardScaler(with_mean=False))\n",
    "                    ]\n",
    "                )),\n",
    "            ]\n",
    "        )\n",
    "    \n",
    "    \n",
    "    def fit_transform(self, X):\n",
    "        return self._feature_union().fit_transform(X)"
   ]
  },
  {
   "cell_type": "markdown",
   "metadata": {},
   "source": [
    "#### 2. \n",
    "Разбейте каждую из шести выборок на три части:\n",
    "\n",
    "    обучающая, на которой будут настраиваться параметры моделей — всё до апреля 2016\n",
    "    тестовая, на которой вы будете подбирать значения гиперпараметров — май 2016\n",
    "    итоговая, которая не будет использоваться при настройке моделей вообще — июнь 2016"
   ]
  },
  {
   "cell_type": "code",
   "execution_count": 6,
   "metadata": {},
   "outputs": [
    {
     "name": "stdout",
     "output_type": "stream",
     "text": [
      "Wall time: 38.3 s\n"
     ]
    }
   ],
   "source": [
    "%%time\n",
    "# разбиение будет в классе TripData\n",
    "trip_data = TripData(data)"
   ]
  },
  {
   "cell_type": "markdown",
   "metadata": {},
   "source": [
    "#### 3. \n",
    "Выберите вашу любимую регрессионную модель и настройте её на каждом из шести наборов данных, подбирая гиперпараметры на мае 2016.\n",
    "Желательно, чтобы модель:\n",
    "\n",
    "    допускала попарные взаимодействия между признаками\n",
    "    была устойчивой к избыточному количеству признаков (например, использовала регуляризаторы)\n",
    "    \n",
    "Так как у нас будет, фактически, 102 независимых ряда, надо выбрать модель, которая позволяет строить n различных моделей. Самое подходящее для этой задачи решение мне видится в использовании решающих деревье. Наиболее мощный инструмент для построения регрессионной модели на основе деревьев решений - XGBoost. Мною были протестированы различные алгоритмы, однако наилучших результатов удалось добиться именно на XGBoost."
   ]
  },
  {
   "cell_type": "code",
   "execution_count": 7,
   "metadata": {},
   "outputs": [],
   "source": [
    "def search_regressor(trip_data, T):\n",
    "    regressor = XGBRegressor(n_estimators=7*102, n_jobs=-1, tree_method='gpu_hist')\n",
    "    \n",
    "    train_data = trip_data.train(T)\n",
    "    X, y = train_data.X, train_data.y\n",
    "\n",
    "    parameters_grid = {\n",
    "        'estimator__model_fitting__max_depth' : np.linspace(3, 9, num = 3, dtype=np.int),\n",
    "        'estimator__model_fitting__min_child_weight' : np.linspace(1, 5, num = 3, dtype=np.int),\n",
    "        'estimator__model_fitting__gamma' : [0, 0.1, 0.3, 0.5],\n",
    "        'estimator__model_fitting__subsample': [0.5, 0.6, 0.8, 1.],\n",
    "        'estimator__model_fitting__colsample_bytree': [0.5, 0.6, 0.8, 1.],\n",
    "        'estimator__model_fitting__alpha' : [0, 0.05, 0.1, 0.5, 1., 3., 5.],\n",
    "        'estimator__model_fitting__lambda' : [0, 0.05, 0.1, 0.5, 1., 3., 5.],\n",
    "    }\n",
    "\n",
    "    randomized_grid_cv = RandomizedSearchCV(\n",
    "        regressor,\n",
    "        parameters_grid,\n",
    "        scoring = 'neg_mean_squared_error',\n",
    "        cv = trip_data.cv(),\n",
    "        n_iter=72,\n",
    "        verbose=2,\n",
    "        n_jobs=1\n",
    "    ).fit(X, y)\n",
    "\n",
    "    print(randomized_grid_cv.best_score_)\n",
    "    print(randomized_grid_cv.best_params_)\n",
    "\n",
    "    return randomized_grid_cv.best_estimator_"
   ]
  },
  {
   "cell_type": "code",
   "execution_count": 8,
   "metadata": {},
   "outputs": [
    {
     "name": "stdout",
     "output_type": "stream",
     "text": [
      "Fitting 1 folds for each of 72 candidates, totalling 72 fits\n"
     ]
    },
    {
     "name": "stderr",
     "output_type": "stream",
     "text": [
      "[Parallel(n_jobs=1)]: Using backend SequentialBackend with 1 concurrent workers.\n",
      "[Parallel(n_jobs=1)]: Done  72 out of  72 | elapsed: 367.7min finished\n"
     ]
    },
    {
     "name": "stdout",
     "output_type": "stream",
     "text": [
      "-2760.3699929804106\n",
      "{'estimator__model_fitting__subsample': 1.0, 'estimator__model_fitting__min_child_weight': 1, 'estimator__model_fitting__max_depth': 9, 'estimator__model_fitting__lambda': 3.0, 'estimator__model_fitting__gamma': 0.3, 'estimator__model_fitting__colsample_bytree': 1.0, 'estimator__model_fitting__alpha': 0.05}\n",
      "Wall time: 6h 15min 17s\n"
     ]
    }
   ],
   "source": [
    "%%time\n",
    "# подберем оптимальные параметры на 6-ти часовой выборке, чтобы использовать их для остальных выборок\n",
    "# кросс-валидация по выборке мая 2016\n",
    "best_estimator = search_regressor(trip_data, 6)"
   ]
  },
  {
   "cell_type": "code",
   "execution_count": 9,
   "metadata": {},
   "outputs": [
    {
     "name": "stdout",
     "output_type": "stream",
     "text": [
      "Средняя абсолютная ошибка в мае 2016 на шестичасовом прогнозе: 19.417149387581198\n",
      "Wall time: 7.43 s\n"
     ]
    }
   ],
   "source": [
    "%%time\n",
    "# посмотрим результат на мае 2016, по которому проводилась кросс-валидация\n",
    "test_idx = trip_data.test_idx\n",
    "X_test = trip_data.train(6).X[test_idx]\n",
    "y_test = trip_data.train(6).y[test_idx]\n",
    "\n",
    "y_pred = best_estimator.predict(X_test)\n",
    "y_err = abs(y_test - y_pred)\n",
    "print(\n",
    "    'Средняя абсолютная ошибка в мае 2016 на шестичасовом прогнозе: {}'\n",
    "    .format(y_err.mean())\n",
    ")"
   ]
  },
  {
   "cell_type": "markdown",
   "metadata": {},
   "source": [
    "Средняя абсолютная ошибка на майской выборке - 19.42. Это лучше, чем на было 4 неделе при обучении на ARIMA (ошибка тогда составила 32.08). \n",
    "\n",
    "Посмотрим на график ошибки и сравним с ошибками модели ARIMA из 4-й недели"
   ]
  },
  {
   "cell_type": "code",
   "execution_count": 10,
   "metadata": {},
   "outputs": [
    {
     "data": {
      "text/plain": [
       "[<matplotlib.lines.Line2D at 0x1b962a17da0>]"
      ]
     },
     "execution_count": 10,
     "metadata": {},
     "output_type": "execute_result"
    },
    {
     "data": {
      "image/png": "[encoded data removed]",
      "text/plain": [
       "<Figure size 2160x576 with 1 Axes>"
      ]
     },
     "metadata": {
      "needs_background": "light"
     },
     "output_type": "display_data"
    }
   ],
   "source": [
    "# график ошибок по зонам, модель XGBoost\n",
    "data_test = trip_data.data.iloc[test_idx]\n",
    "data_test.loc[:, 'err'] = y_err\n",
    "fig, ax = plt.subplots(figsize=(30,8))\n",
    "ax.set_xlim(1, data_test.shape[0])\n",
    "ax.set_ylim(0, 6000)\n",
    "ax.set_xticklabels(np.sort(data_test.region_id.unique()))\n",
    "ax.xaxis.set_major_locator(ticker.MultipleLocator(744))\n",
    "ax.xaxis.grid(True, which='major')\n",
    "ax.xaxis.set_tick_params(rotation=90)\n",
    "ax.plot(\n",
    "    data_test\n",
    "    .reset_index()\n",
    "    .set_index(['region_id', 'trip_datetime'])\n",
    "    .sort_index()\n",
    "    .err\n",
    "    .values,\n",
    "    color='green'\n",
    ")"
   ]
  },
  {
   "cell_type": "code",
   "execution_count": 11,
   "metadata": {},
   "outputs": [
    {
     "data": {
      "text/plain": [
       "[<matplotlib.lines.Line2D at 0x1965da6e240>]"
      ]
     },
     "execution_count": 11,
     "metadata": {},
     "output_type": "execute_result"
    },
    {
     "data": {
      "image/png": "[encoded data removed]",
      "text/plain": [
       "<Figure size 2160x576 with 1 Axes>"
      ]
     },
     "metadata": {
      "needs_background": "light"
     },
     "output_type": "display_data"
    }
   ],
   "source": [
    "# график ошибок по зонам, модель ARIMA"
   ]
  },
  {
   "cell_type": "markdown",
   "metadata": {},
   "source": [
    "По графику ошибок видно, что:\n",
    "\n",
    "    1) в среднем, максимальные абсолютные ошибки на XGBoost меньше, чем на модели ARIMA. Это обусловлено тем, что на XGBoost использовалось больше признаков, а также, тем, что в обучении участвовали все зоны (в случае модели ARIMA обучение проводилось по зонам, являющихся центрами кластеров)\n",
    "    \n",
    "    2) отклонения от прогноза выше среднего возникают на одних и тех же зонах, необходим более детальный анализ их для объяснения этих аномалий. Это будем делать на 6-й неделе."
   ]
  },
  {
   "cell_type": "markdown",
   "metadata": {},
   "source": [
    "#### 4.\n",
    "Выбранными моделями постройте для каждой географической зоны и каждого конца истории от 2016.04.30 23:00 до 2016.05.31 17:00 прогнозы на 6 часов вперёд.\n",
    "Убедитесь, что ошибка полученных прогнозов, рассчитанная согласно функционалу Q, определённому на прошлой неделе, уменьшилась по сравнению с той, которую вы получили методом индивидуального применения моделей ARIMA. Если этого не произошло, попробуйте улучшить ваши модели."
   ]
  },
  {
   "cell_type": "code",
   "execution_count": 12,
   "metadata": {},
   "outputs": [],
   "source": [
    "def calc_predictions(trip_data, **params):\n",
    "    \n",
    "    train_idx = trip_data.train_idx\n",
    "    test_idx = trip_data.test_idx\n",
    "    final_idx = trip_data.final_idx\n",
    "    \n",
    "    # dataframe для ошибок в мае 2016\n",
    "    errors = trip_data.data.iloc[test_idx].loc[:, ['region_id']]\n",
    "    \n",
    "    # dafarame для прогноза в июне 2016\n",
    "    predictions = trip_data.data.iloc[final_idx].loc[:, ['region_id']]\n",
    "    \n",
    "    for T in range(1, 6+1):\n",
    "        print('build model for T={}'.format(T))\n",
    "\n",
    "        train_data = trip_data.train(T)\n",
    "        test_data = trip_data.test(T)\n",
    "        \n",
    "        X_train = train_data.X[train_idx]\n",
    "        y_train = train_data.y[train_idx]\n",
    "        X_may = train_data.X[test_idx]\n",
    "        y_may = train_data.y[test_idx]\n",
    "        X_june = test_data.X\n",
    "\n",
    "        model = XGBRegressor(\n",
    "            n_jobs=-1, \n",
    "            tree_method='gpu_hist',\n",
    "            **params\n",
    "        ).fit(X_train, y_train)\n",
    "\n",
    "        y_pred_may = model.predict(X_may)\n",
    "        y_pred_june = model.predict(X_june)\n",
    "        \n",
    "        errors.loc[:, '{}'.format(T)] = (abs(y_pred_may - y_may))\n",
    "        predictions.loc[:, '{}'.format(T)] = y_pred_june\n",
    "        \n",
    "        del model\n",
    "        gc.collect()\n",
    "    \n",
    "    return predictions, errors"
   ]
  },
  {
   "cell_type": "code",
   "execution_count": 13,
   "metadata": {},
   "outputs": [
    {
     "name": "stdout",
     "output_type": "stream",
     "text": [
      "build model for T=1\n",
      "build model for T=2\n",
      "build model for T=3\n",
      "build model for T=4\n",
      "build model for T=5\n",
      "build model for T=6\n",
      "Wall time: 44min 27s\n"
     ]
    }
   ],
   "source": [
    "%%time\n",
    "predictions, errors = calc_predictions(\n",
    "    trip_data,\n",
    "    n_estimators=7*102,\n",
    "    eta=0.1,\n",
    "    max_depth=9,\n",
    "    reg_alpha=0.05,\n",
    "    reg_lambda=3.0,\n",
    "    gamma=0.3\n",
    ")"
   ]
  },
  {
   "cell_type": "code",
   "execution_count": 30,
   "metadata": {},
   "outputs": [
    {
     "name": "stdout",
     "output_type": "stream",
     "text": [
      "Май 2016: (75378, 7)\n",
      "Июнь 2016: (72930, 7)\n"
     ]
    }
   ],
   "source": [
    "# проверим размер получившихся массивов.\n",
    "# для мая 2016 должен быть размер 102*739*6 = 75378*6\n",
    "print('Май 2016: {}'.format(errors.shape))\n",
    "\n",
    "# для июня 2016 должен быть размер 102*715*6 = 72930*6\n",
    "print('Июнь 2016: {}'.format(predictions.shape))"
   ]
  },
  {
   "cell_type": "code",
   "execution_count": 31,
   "metadata": {},
   "outputs": [
    {
     "name": "stdout",
     "output_type": "stream",
     "text": [
      "Средняя абсолютная ошибка прогноза в мае 2016: 21.676409275723078\n"
     ]
    }
   ],
   "source": [
    "# ошибка прогноза на мае 2016:\n",
    "print(\n",
    "    'Средняя абсолютная ошибка прогноза в мае 2016: {}'\n",
    "    .format(errors.iloc[:, 1:].mean().mean())\n",
    ")"
   ]
  },
  {
   "cell_type": "markdown",
   "metadata": {},
   "source": [
    "Ошибка уменьшилась по сравнению с полученной при применении модели ARIMA (32.078336249808935).\n",
    "Сейчас при обучении не использовалась кросс-валидация на этой выборке, потому ошибка немного выше по сравнению с той, которую мы получили при подборе гиперпараметров (19.42)"
   ]
  },
  {
   "cell_type": "markdown",
   "metadata": {},
   "source": [
    "#### 5. \n",
    "Итоговыми моделями постройте прогнозы для каждого конца истории от 2016.05.31 23:00 до 2016.06.30 17:00 и запишите все результаты в один файл в формате geoID, histEndDay, histEndHour, step, y. Здесь geoID — идентификатор зоны, histEndDay — день конца истории в формате yyyy.mm.dd, histEndHour — час конца истории от 0 до 23, step ∈{1,2,3,4,5,6} — номер отсчёта, на который вы делаете предсказание, y — предсказываемое значение."
   ]
  },
  {
   "cell_type": "code",
   "execution_count": 63,
   "metadata": {},
   "outputs": [],
   "source": [
    "# функция формирования прогноза в заданном формате и записи в файл\n",
    "def write_predictions(df):\n",
    "    predictions = df.apply(\n",
    "        lambda row: ''.join([\n",
    "            '{region}_{:%Y-%m-%d}_{hour}_{ref},{pred}\\n'.format(\n",
    "                row.name,\n",
    "                hour=row.name.hour,\n",
    "                region=int(row.region_id),\n",
    "                ref=T,\n",
    "                pred=max(row[T], 0)\n",
    "            ) for T in range(1, 6+1)\n",
    "        ]),\n",
    "        axis=1,\n",
    "    )\n",
    "    \n",
    "    with open('june_predict_5.csv', \"w\") as csv:\n",
    "        csv.write('id,y\\n')\n",
    "        csv.write(''.join(predictions))"
   ]
  },
  {
   "cell_type": "code",
   "execution_count": 64,
   "metadata": {},
   "outputs": [
    {
     "name": "stdout",
     "output_type": "stream",
     "text": [
      "Wall time: 17 s\n"
     ]
    }
   ],
   "source": [
    "%%time\n",
    "write_predictions(predictions)"
   ]
  },
  {
   "cell_type": "markdown",
   "metadata": {},
   "source": [
    "#### 6. \n",
    "Загрузите полученный файл на kaggle: https://inclass.kaggle.com/c/yellowtaxi. Добавьте в ноутбук ссылку на сабмишн."
   ]
  },
  {
   "cell_type": "markdown",
   "metadata": {},
   "source": [
    "Ссылка: https://www.kaggle.com/submissions/15330390/15330390.raw\n",
    "\n",
    "Score: 26.85705"
   ]
  },
  {
   "cell_type": "code",
   "execution_count": 65,
   "metadata": {},
   "outputs": [
    {
     "data": {
      "image/png": "[encoded data removed]",
      "text/plain": [
       "<IPython.core.display.Image object>"
      ]
     },
     "execution_count": 65,
     "metadata": {},
     "output_type": "execute_result"
    }
   ],
   "source": [
    "from IPython.display import Image\n",
    "Image(filename='image.png') "
   ]
  }
 ],
 "metadata": {
  "kernelspec": {
   "display_name": "Python 3",
   "language": "python",
   "name": "python3"
  },
  "language_info": {
   "codemirror_mode": {
    "name": "ipython",
    "version": 3
   },
   "file_extension": ".py",
   "mimetype": "text/x-python",
   "name": "python",
   "nbconvert_exporter": "python",
   "pygments_lexer": "ipython3",
   "version": "3.7.3"
  }
 },
 "nbformat": 4,
 "nbformat_minor": 4
}
